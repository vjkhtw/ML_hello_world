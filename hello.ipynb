{
 "cells": [
  {
   "cell_type": "code",
   "execution_count": 7,
   "id": "8a6d7ede-2f0f-4e75-9aef-02ecf1b4909e",
   "metadata": {
    "execution": {
     "iopub.execute_input": "2023-02-07T17:18:48.667541Z",
     "iopub.status.busy": "2023-02-07T17:18:48.666519Z",
     "iopub.status.idle": "2023-02-07T17:18:48.688111Z",
     "shell.execute_reply": "2023-02-07T17:18:48.687332Z",
     "shell.execute_reply.started": "2023-02-07T17:18:48.667490Z"
    }
   },
   "outputs": [
    {
     "data": {
      "text/plain": [
       "array(['HipHop', 'Dance'], dtype=object)"
      ]
     },
     "execution_count": 7,
     "metadata": {},
     "output_type": "execute_result"
    }
   ],
   "source": [
    "import pandas as pd\n",
    "from sklearn.tree import DecisionTreeClassifier\n",
    "\n",
    "mus_dat = pd.read_csv(\"/notebooks/music.csv\")\n",
    "X = mus_dat.drop(columns = ['genre'])\n",
    "y = mus_dat['genre']\n",
    "\n",
    "model = DecisionTreeClassifier()\n",
    "model.fit(X.values, y)\n",
    "\n",
    "predict = model.predict([[21, 1], [22, 0]])\n",
    "predict\n"
   ]
  },
  {
   "cell_type": "code",
   "execution_count": 27,
   "id": "abc919f6-43e2-421f-8e9a-b914e49219d8",
   "metadata": {
    "execution": {
     "iopub.execute_input": "2023-02-07T17:47:49.588270Z",
     "iopub.status.busy": "2023-02-07T17:47:49.587181Z",
     "iopub.status.idle": "2023-02-07T17:47:49.600940Z",
     "shell.execute_reply": "2023-02-07T17:47:49.600389Z",
     "shell.execute_reply.started": "2023-02-07T17:47:49.588237Z"
    }
   },
   "outputs": [
    {
     "data": {
      "text/plain": [
       "0.2"
      ]
     },
     "execution_count": 27,
     "metadata": {},
     "output_type": "execute_result"
    }
   ],
   "source": [
    "import pandas as pd\n",
    "from sklearn.tree import DecisionTreeClassifier\n",
    "from sklearn.model_selection import train_test_split\n",
    "from sklearn.metrics import accuracy_score\n",
    "\n",
    "mus_dat = pd.read_csv(\"/notebooks/music.csv\")\n",
    "X = mus_dat.drop(columns = [\"genre\"])\n",
    "y = mus_dat[\"genre\"]\n",
    "\n",
    "X_train, X_test, y_train, y_test = train_test_split(X, y, test_size = 0.8)\n",
    "\n",
    "models = DecisionTreeClassifier()\n",
    "models.fit(X_train, y_train)\n",
    "\n",
    "\n",
    "predictions = models.predict(X_test)\n",
    "score = accuracy_score(y_test, predictions)\n",
    "score\n"
   ]
  },
  {
   "cell_type": "code",
   "execution_count": 33,
   "id": "c929035c-a277-43d1-ba46-5702a97cbd98",
   "metadata": {
    "execution": {
     "iopub.execute_input": "2023-02-07T18:19:30.149158Z",
     "iopub.status.busy": "2023-02-07T18:19:30.148358Z",
     "iopub.status.idle": "2023-02-07T18:19:30.325155Z",
     "shell.execute_reply": "2023-02-07T18:19:30.324510Z",
     "shell.execute_reply.started": "2023-02-07T18:19:30.149125Z"
    }
   },
   "outputs": [
    {
     "data": {
      "text/plain": [
       "['/notebooks/mus_recom']"
      ]
     },
     "execution_count": 33,
     "metadata": {},
     "output_type": "execute_result"
    }
   ],
   "source": [
    "import pandas as pd\n",
    "from sklearn.tree import DecisionTreeClassifier\n",
    "import joblib\n",
    "from sklearn.model_selection import train_test_split\n",
    "\n",
    "mus_dat = pd.read_csv(\"/notebooks/music.csv\")\n",
    "X = mus_dat.drop(columns = ['genre'])\n",
    "y = mus_dat['genre']\n",
    "\n",
    "X_train, X_test, y_train, y_test = train_test_split(X, y, test_size = 0.2)\n",
    "\n",
    "model = DecisionTreeClassifier()\n",
    "model.fit(X_train, y_train)\n",
    "\n",
    "joblib.dump(model, '/notebooks/mus_recom')"
   ]
  },
  {
   "cell_type": "code",
   "execution_count": 35,
   "id": "ebc25b2a-da83-48b8-bce2-00f83397b6a1",
   "metadata": {
    "execution": {
     "iopub.execute_input": "2023-02-07T18:22:39.313633Z",
     "iopub.status.busy": "2023-02-07T18:22:39.313253Z",
     "iopub.status.idle": "2023-02-07T18:22:39.362866Z",
     "shell.execute_reply": "2023-02-07T18:22:39.362273Z",
     "shell.execute_reply.started": "2023-02-07T18:22:39.313594Z"
    }
   },
   "outputs": [
    {
     "data": {
      "text/plain": [
       "array(['Jazz', 'Dance', 'HipHop', 'Classical'], dtype=object)"
      ]
     },
     "execution_count": 35,
     "metadata": {},
     "output_type": "execute_result"
    }
   ],
   "source": [
    "import pandas as pd\n",
    "from sklearn.tree import DecisionTreeClassifier\n",
    "import joblib\n",
    "from sklearn.model_selection import train_test_split\n",
    "\n",
    "mus_dat = pd.read_csv(\"/notebooks/music.csv\")\n",
    "X = mus_dat.drop(columns = ['genre'])\n",
    "y = mus_dat['genre']\n",
    "\n",
    "X_train, X_test, y_train, y_test = train_test_split(X, y, test_size = 0.2)\n",
    "\n",
    "# model = DecisionTreeClassifier()\n",
    "# model.fit(X_train, y_train)\n",
    "\n",
    "model = joblib.load('/notebooks/mus_recom')\n",
    "prediction = model.predict(X_test)\n",
    "prediction"
   ]
  },
  {
   "cell_type": "code",
   "execution_count": 15,
   "id": "37640e57-2508-437f-bdb3-f7514a31ccdd",
   "metadata": {
    "execution": {
     "iopub.execute_input": "2023-02-08T05:47:00.001917Z",
     "iopub.status.busy": "2023-02-08T05:47:00.001080Z",
     "iopub.status.idle": "2023-02-08T05:47:00.172555Z",
     "shell.execute_reply": "2023-02-08T05:47:00.171907Z",
     "shell.execute_reply.started": "2023-02-08T05:47:00.001890Z"
    }
   },
   "outputs": [],
   "source": [
    "import pandas as pd\n",
    "from sklearn.tree import DecisionTreeClassifier\n",
    "from sklearn.metrics import accuracy_score\n",
    "from sklearn.model_selection import train_test_split\n",
    "import joblib\n",
    "from sklearn import tree\n",
    "\n",
    "mus_dat = pd.read_csv(\"/notebooks/music.csv\")\n",
    "X = mus_dat.drop(columns = ['genre'])\n",
    "y = mus_dat['genre']\n",
    "\n",
    "X_train, X_test, y_train, y_test = train_test_split(X, y, test_size = 0.7)\n",
    "\n",
    "# model = DecisionTreeClassifier()\n",
    "# model.fit(X_train, y_train)\n",
    "# joblib.dump(model, '/notebooks/music_recmo')\n",
    "\n",
    "model = joblib.load('/notebooks/mus_recom')\n",
    "# prediction = model.predict(X_test)\n",
    "\n",
    "# accuracy = accuracy_score(y_test, prediction)\n",
    "# accuracy\n",
    "tree.export_graphviz(model, out_file = \"rand.dot\", feature_names = ['age', 'gender'], class_names = sorted(y.unique()), label = 'all', rounded = True, filled = True)\n"
   ]
  },
  {
   "cell_type": "code",
   "execution_count": null,
   "id": "4495cbb0-d18e-43e7-a3fa-2ec5ef96b588",
   "metadata": {},
   "outputs": [],
   "source": []
  },
  {
   "cell_type": "code",
   "execution_count": null,
   "id": "9e14629d-e1d0-4d9f-b8fb-d7cef3f59c50",
   "metadata": {},
   "outputs": [],
   "source": []
  }
 ],
 "metadata": {
  "kernelspec": {
   "display_name": "Python 3 (ipykernel)",
   "language": "python",
   "name": "python3"
  },
  "language_info": {
   "codemirror_mode": {
    "name": "ipython",
    "version": 3
   },
   "file_extension": ".py",
   "mimetype": "text/x-python",
   "name": "python",
   "nbconvert_exporter": "python",
   "pygments_lexer": "ipython3",
   "version": "3.9.13"
  }
 },
 "nbformat": 4,
 "nbformat_minor": 5
}
